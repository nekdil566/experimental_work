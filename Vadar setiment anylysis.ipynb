{
 "cells": [
  {
   "cell_type": "code",
   "execution_count": 9,
   "id": "62f4e090-11b9-43e3-9585-f4a3dd3881a2",
   "metadata": {},
   "outputs": [],
   "source": [
    "import pandas as pd\n",
    "from nltk.sentiment.vader import SentimentIntensityAnalyzer\n",
    "\n",
    "# Load the dataset\n",
    "df = pd.read_csv('vadarfull.csv', encoding='latin1')\n",
    "\n",
    "# Check for missing values in the 'review' column\n",
    "missing_reviews = df[df['review'].isna()]\n",
    "\n",
    "# Drop rows with missing 'review' values\n",
    "df.dropna(subset=['review'], inplace=True)\n",
    "\n",
    "# Initialize the VADER sentiment analyzer\n",
    "sia = SentimentIntensityAnalyzer()\n",
    "\n",
    "# Function to classify sentiment\n",
    "def classify_sentiment(text):\n",
    "    sentiment_scores = sia.polarity_scores(text)\n",
    "    compound_score = sentiment_scores['compound']\n",
    "    \n",
    "    if compound_score >= 0.05:\n",
    "        return 'positive'\n",
    "    elif compound_score <= -0.05:\n",
    "        return 'negative'\n",
    "    else:\n",
    "        return 'neutral'\n",
    "\n",
    "# Apply sentiment classification to the 'review' column\n",
    "df['Sentiment'] = df['review'].apply(classify_sentiment)\n",
    "\n",
    "# Split the dataset into separate dataframes for positive, negative, and neutral reviews\n",
    "positive_reviews = df[df['Sentiment'] == 'positive']\n",
    "negative_reviews = df[df['Sentiment'] == 'negative']\n",
    "neutral_reviews = df[df['Sentiment'] == 'neutral']\n",
    "\n",
    "# Optionally, you can save these dataframes to separate CSV files if needed\n",
    "positive_reviews.to_csv('positive_reviews.csv', index=False)\n",
    "negative_reviews.to_csv('negative_reviews_vadar1.csv', index=False)\n",
    "neutral_reviews.to_csv('neutral_reviews.csv', index=False)\n"
   ]
  },
  {
   "cell_type": "code",
   "execution_count": 4,
   "id": "448bf12d-84a3-4842-ab4a-fc42b4e22744",
   "metadata": {},
   "outputs": [
    {
     "name": "stdout",
     "output_type": "stream",
     "text": [
      "['/Users/nekdilkhan/nltk_data', '/Users/nekdilkhan/miniforge3/nltk_data', '/Users/nekdilkhan/miniforge3/share/nltk_data', '/Users/nekdilkhan/miniforge3/lib/nltk_data', '/usr/share/nltk_data', '/usr/local/share/nltk_data', '/usr/lib/nltk_data', '/usr/local/lib/nltk_data']\n"
     ]
    }
   ],
   "source": [
    "import nltk.data\n",
    "print(nltk.data.path)\n"
   ]
  },
  {
   "cell_type": "code",
   "execution_count": null,
   "id": "7c1ace5a-1394-4fd6-a4c5-b4cefecd17b0",
   "metadata": {},
   "outputs": [],
   "source": []
  }
 ],
 "metadata": {
  "kernelspec": {
   "display_name": "Python 3 (ipykernel)",
   "language": "python",
   "name": "python3"
  },
  "language_info": {
   "codemirror_mode": {
    "name": "ipython",
    "version": 3
   },
   "file_extension": ".py",
   "mimetype": "text/x-python",
   "name": "python",
   "nbconvert_exporter": "python",
   "pygments_lexer": "ipython3",
   "version": "3.10.12"
  }
 },
 "nbformat": 4,
 "nbformat_minor": 5
}
