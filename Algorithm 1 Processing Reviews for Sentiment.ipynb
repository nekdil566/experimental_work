{
 "cells": [
  {
   "cell_type": "code",
   "execution_count": 14,
   "id": "66140fa6",
   "metadata": {},
   "outputs": [
    {
     "name": "stderr",
     "output_type": "stream",
     "text": [
      "/var/folders/y0/23chrxcn0d9dv4pxp6v708kr0000gn/T/ipykernel_45887/3877821903.py:105: SettingWithCopyWarning: \n",
      "A value is trying to be set on a copy of a slice from a DataFrame.\n",
      "Try using .loc[row_indexer,col_indexer] = value instead\n",
      "\n",
      "See the caveats in the documentation: https://pandas.pydata.org/pandas-docs/stable/user_guide/indexing.html#returning-a-view-versus-a-copy\n",
      "  chunk.loc[index, 'sentiment'] = sentiment\n"
     ]
    },
    {
     "name": "stdout",
     "output_type": "stream",
     "text": [
      "Encountered a 502 error, waiting for 1 seconds before retrying.\n",
      "Encountered a 502 error, waiting for 1 seconds before retrying.\n",
      "Encountered a 502 error, waiting for 1 seconds before retrying.\n"
     ]
    },
    {
     "name": "stderr",
     "output_type": "stream",
     "text": [
      "/var/folders/y0/23chrxcn0d9dv4pxp6v708kr0000gn/T/ipykernel_45887/3877821903.py:114: SettingWithCopyWarning: \n",
      "A value is trying to be set on a copy of a slice from a DataFrame.\n",
      "Try using .loc[row_indexer,col_indexer] = value instead\n",
      "\n",
      "See the caveats in the documentation: https://pandas.pydata.org/pandas-docs/stable/user_guide/indexing.html#returning-a-view-versus-a-copy\n",
      "  chunk_negative.loc[index, 'emotion'] = emotion\n"
     ]
    },
    {
     "name": "stdout",
     "output_type": "stream",
     "text": [
      "Finished processing chunk 1/5\n"
     ]
    },
    {
     "name": "stderr",
     "output_type": "stream",
     "text": [
      "/var/folders/y0/23chrxcn0d9dv4pxp6v708kr0000gn/T/ipykernel_45887/3877821903.py:105: SettingWithCopyWarning: \n",
      "A value is trying to be set on a copy of a slice from a DataFrame.\n",
      "Try using .loc[row_indexer,col_indexer] = value instead\n",
      "\n",
      "See the caveats in the documentation: https://pandas.pydata.org/pandas-docs/stable/user_guide/indexing.html#returning-a-view-versus-a-copy\n",
      "  chunk.loc[index, 'sentiment'] = sentiment\n",
      "/var/folders/y0/23chrxcn0d9dv4pxp6v708kr0000gn/T/ipykernel_45887/3877821903.py:114: SettingWithCopyWarning: \n",
      "A value is trying to be set on a copy of a slice from a DataFrame.\n",
      "Try using .loc[row_indexer,col_indexer] = value instead\n",
      "\n",
      "See the caveats in the documentation: https://pandas.pydata.org/pandas-docs/stable/user_guide/indexing.html#returning-a-view-versus-a-copy\n",
      "  chunk_negative.loc[index, 'emotion'] = emotion\n"
     ]
    },
    {
     "name": "stdout",
     "output_type": "stream",
     "text": [
      "Finished processing chunk 2/5\n"
     ]
    },
    {
     "name": "stderr",
     "output_type": "stream",
     "text": [
      "/var/folders/y0/23chrxcn0d9dv4pxp6v708kr0000gn/T/ipykernel_45887/3877821903.py:105: SettingWithCopyWarning: \n",
      "A value is trying to be set on a copy of a slice from a DataFrame.\n",
      "Try using .loc[row_indexer,col_indexer] = value instead\n",
      "\n",
      "See the caveats in the documentation: https://pandas.pydata.org/pandas-docs/stable/user_guide/indexing.html#returning-a-view-versus-a-copy\n",
      "  chunk.loc[index, 'sentiment'] = sentiment\n"
     ]
    },
    {
     "name": "stdout",
     "output_type": "stream",
     "text": [
      "Encountered a 502 error, waiting for 1 seconds before retrying.\n",
      "Encountered a 502 error, waiting for 1 seconds before retrying.\n",
      "Encountered a 502 error, waiting for 1 seconds before retrying.\n"
     ]
    },
    {
     "name": "stderr",
     "output_type": "stream",
     "text": [
      "/var/folders/y0/23chrxcn0d9dv4pxp6v708kr0000gn/T/ipykernel_45887/3877821903.py:114: SettingWithCopyWarning: \n",
      "A value is trying to be set on a copy of a slice from a DataFrame.\n",
      "Try using .loc[row_indexer,col_indexer] = value instead\n",
      "\n",
      "See the caveats in the documentation: https://pandas.pydata.org/pandas-docs/stable/user_guide/indexing.html#returning-a-view-versus-a-copy\n",
      "  chunk_negative.loc[index, 'emotion'] = emotion\n"
     ]
    },
    {
     "name": "stdout",
     "output_type": "stream",
     "text": [
      "Encountered a 502 error, waiting for 1 seconds before retrying.\n",
      "Finished processing chunk 3/5\n"
     ]
    },
    {
     "name": "stderr",
     "output_type": "stream",
     "text": [
      "/var/folders/y0/23chrxcn0d9dv4pxp6v708kr0000gn/T/ipykernel_45887/3877821903.py:105: SettingWithCopyWarning: \n",
      "A value is trying to be set on a copy of a slice from a DataFrame.\n",
      "Try using .loc[row_indexer,col_indexer] = value instead\n",
      "\n",
      "See the caveats in the documentation: https://pandas.pydata.org/pandas-docs/stable/user_guide/indexing.html#returning-a-view-versus-a-copy\n",
      "  chunk.loc[index, 'sentiment'] = sentiment\n",
      "/var/folders/y0/23chrxcn0d9dv4pxp6v708kr0000gn/T/ipykernel_45887/3877821903.py:114: SettingWithCopyWarning: \n",
      "A value is trying to be set on a copy of a slice from a DataFrame.\n",
      "Try using .loc[row_indexer,col_indexer] = value instead\n",
      "\n",
      "See the caveats in the documentation: https://pandas.pydata.org/pandas-docs/stable/user_guide/indexing.html#returning-a-view-versus-a-copy\n",
      "  chunk_negative.loc[index, 'emotion'] = emotion\n"
     ]
    },
    {
     "name": "stdout",
     "output_type": "stream",
     "text": [
      "Finished processing chunk 4/5\n"
     ]
    },
    {
     "name": "stderr",
     "output_type": "stream",
     "text": [
      "/var/folders/y0/23chrxcn0d9dv4pxp6v708kr0000gn/T/ipykernel_45887/3877821903.py:105: SettingWithCopyWarning: \n",
      "A value is trying to be set on a copy of a slice from a DataFrame.\n",
      "Try using .loc[row_indexer,col_indexer] = value instead\n",
      "\n",
      "See the caveats in the documentation: https://pandas.pydata.org/pandas-docs/stable/user_guide/indexing.html#returning-a-view-versus-a-copy\n",
      "  chunk.loc[index, 'sentiment'] = sentiment\n"
     ]
    },
    {
     "name": "stdout",
     "output_type": "stream",
     "text": [
      "Finished processing chunk 5/5\n"
     ]
    }
   ],
   "source": [
    "import pandas as pd\n",
    "import openai\n",
    "import time\n",
    "\n",
    "openai.api_key = 'put chatgpt api here'\n",
    "\n",
    "df = pd.read_csv('apinegetive.csv')\n",
    "\n",
    "def try_request(func, retries=5, delay=1, *args, **kwargs):\n",
    "    for i in range(retries):\n",
    "        try:\n",
    "            return func(*args, **kwargs)\n",
    "        except Exception as e:\n",
    "            if isinstance(e, openai.error.ServiceUnavailableError):\n",
    "                print(\"Service is currently unavailable, waiting for 60 seconds before retrying.\")\n",
    "                time.sleep(60)  # wait for 60 seconds before retrying\n",
    "            elif '502' in str(e) and i < retries - 1:  # If a 502 status code was returned\n",
    "                print(f\"Encountered a 502 error, waiting for {delay} seconds before retrying.\")\n",
    "                time.sleep(delay)\n",
    "            else:  # If the error is something else, re-raise it.\n",
    "                raise\n",
    "\n",
    "def get_sentiment(review_text):\n",
    "    prompt = f\"The following comment was left on the Amazon store:\\n\\\"{review_text}\\\"\\nBased on the content and tone of the comment, is it negative or positive?\"\n",
    "    message = [{\"role\": \"system\", \"content\": prompt}]\n",
    "    response = try_request(openai.ChatCompletion.create, model=\"gpt-3.5-turbo\", messages=message)\n",
    "    sentiment = response['choices'][0]['message']['content']\n",
    "    return sentiment.strip()\n",
    "\n",
    "def get_emotion(review_text):\n",
    "    prompt = f\"\"\"\n",
    "    Please identify the dominant emotion expressed in the following review based on these definitions:\n",
    "\n",
    "    \n",
    "   -Sadness:The code sadness is assign to an end-user comment in the Amazon store where crowd-users express grief or pain\n",
    "over a software feature, a bug or issue in the software application, or an issue reported in the software’s quality or with the overall\n",
    "software. Generally, sadness occurs when a beloved one or an essential item is lost. Similarly, crowd-users express sadness\n",
    "when unsatisfied with a single feature or overall software application in their reported comment in the Amazon store. Some\n",
    "examples are For some time the app shows invalid file when trying to open almost any PDF, I used to love the app and reinstalled\n",
    "hoping they fixed the problem, but it doesn’t work and Fun way to connect with my granddaughter. And I was unable to figure\n",
    "out how to use. I am sad for it.\n",
    "- Anger: The concept of anger is assign to end-user feedback in the Amazon store and refers to what stops crowd-users from\n",
    "achieving the desired goals with either a single feature or overall software application. Also, a specific software feature or the\n",
    "overall application behaves unexpectedly or unfairly. In general, anger is one of the seven universal emotions that arise when\n",
    "we are not reaching our vision or are maltreated. At its most extreme, anger can be one of the most dangerous emotions due to its\n",
    "possible link to violence. Such information is of pivotal importance for software and requirements engineers, as it might result\n",
    "in the uninstallation of the software applications. Therefore, with the proposed approach, it can be identified earlier to earn user\n",
    "satisfaction and improve the overall quality of the software application. Some examples of the anger concept in the Amazon\n",
    "store are: I downloaded and deleted because of the difficult layout. Also, I got a problem like this: invalid file when trying to open. Can you please fix this? You’re bothering me, bro and They are big liars and stink. Every time I tried to open it, it\n",
    "would crash and then tell me an unknown error had occurred.\n",
    "-Disgust: The concept disgust is assign to end-user feedback in the Amazon store where crowd-users strongly dislike a\n",
    "specific software feature, a bug or issue that has arrived in the software application, an issue reported in the software’s quality,\n",
    "or the overall software application. In general, disgust is one of the seven universal emotions, defined by a strong dislike\n",
    "for something unpleasant. In requirements engineering, it is essential to identify the disgust emotions of crowd-users in the\n",
    "Amazon store, as they mainly describe the software application’s negative behavior, specifically the non-functional attributes.\n",
    "For example, you can only make calls to users of this application. I couldn’t even sign up; it just exited out and said the app had\n",
    "foreclosed three times, so I uninstalled it and got a better texting app that lets me create an account. And I’m on my Kindle Fire\n",
    "HD. I don’t like this app. and I couldn’t even sign up; it just exited out and said the app forbade it three times, so I uninstalled\n",
    "it and got a better texting app that lets me create an account. Don’t like it. Identifying such requirements-related information\n",
    "earlier can help improve software applications’ quality and end-user satisfaction.\n",
    "-Fear: The concept fear is assign to end-user feedback in the Amazon store where crowd-users sense or feel a possible threat\n",
    "with a specific software feature or the overall software application. In general, fear is induced by the threat of harm, which can\n",
    "be physiological, emotional, or mental in origin and can be real or imagined. In requirements and software engineering, fear\n",
    "is often considered a negative emotion. Identifying it earlier in the software development phase can give the crowd-users\n",
    "enough confidence in the software’s functionalities and overall performance. Some examples of fear emotions in the Amazon\n",
    "store are useless. I was unable to make the simplest edit to my PDF. I wish I could get my money back, but Amazon makes\n",
    "it impossible. and I installed this app, and that’s as far as I got. Every time I tried to open it, it would crash and then tell me\n",
    "an unknown error had occurred. I uninstalled and reinstalled it a few times but never opened it. I can’t say if I liked it or not\n",
    "because I never got to try it.\n",
    "-Distrust: The label distrust is attributed to an end-user feedback in the Amazon store when users express apprehension regarding the reliability\n",
    "or credibility of a software feature or the entire software application. Distrust can emerge when software consistently underperforms\n",
    "or when there's perceived jeopardy to the user's safety, particularly in the realm of data privacy or potential misuse. For instance, \n",
    "a user expressed distrust by commenting, The new permissions really sour what is otherwise a great tool. Also, I am not a fan of apps \n",
    "that require the internet to run. I certainly don't need the net to be operational at my PC for 90%+ of my apps, why should I have the\n",
    "net active on my phone? Such sentiments reflect concerns about unnecessary permissions and reliance on internet connectivity, contributing \n",
    "to an overall sense of distrust in the app. Identifying and addressing these expressions of distrust can be integral to enhancing user confidence \n",
    "and satisfaction.\n",
    "-Frustration: The label frustration is assigned to end-user feedback in the Amazon store when users express dissatisfaction because software \n",
    "features do not operate as anticipated, there are recurring issues, or there's an absence of crucial functionality. For instance, one user expressed \n",
    "frustration by commenting, Continuously crashes. Cannot open even after restarts. No way to receive refund. Another user's review conveyed frustration with the words, \n",
    "Get an 'invalid file' error since Marshmallow. These comments exemplify experiences that hinder the user's goals, leading to a sense of frustration. Identifying and addressing these \n",
    "frustrations in a timely manner can significantly improve user satisfaction and the overall quality of the software application.\n",
    "-Confusion: The code confusion is attributed to end-user feedback in the Amazon store when users express perplexity or lack of clarity regarding a software feature or the overall \n",
    "software application. This state of uncertainty is typically triggered by ambiguous instructions, poorly designed user interfaces, or complex functionalities that aren't intuitive.\n",
    "A perfect exemplification of confusion can be seen in a user's comment, Same as below review. I have the same opinion as the person below me, Confused!!!!. This review illustrates \n",
    "a shared sentiment of bewilderment among users. Recognizing and resolving these moments of confusion can guide developers in refining the user interface and enhancing the overall user experience.\n",
    "-Disappointment: The label disappointment is applied to end-user feedback in the Amazon store when users express a sentiment of letdown or dissatisfaction regarding a software feature or the overall\n",
    "software application. Disappointment typically surfaces when the application fails to meet the users' expectations or when the promised benefits do not materialize in the user's experience. For example,\n",
    "a user might express disappointment in a comment like, I’m not sure that it's working. Whenever I have it clean my computer, the result is 0 bytes removed and it continues to download. Not clear or comfortable with the results. JT. \n",
    "This review reflects a user's disappointment stemming from the perceived ineffectiveness of the software. Identifying and addressing these instances of disappointment can assist in making necessary adjustments to the software and help in managing user expectations better.\n",
    "   \n",
    "    Review: \"{review_text}\"\n",
    "    \"\"\"\n",
    "\n",
    "    message = [{\"role\": \"system\", \"content\": prompt}]\n",
    "    response = try_request(openai.ChatCompletion.create, model=\"gpt-3.5-turbo\", messages=message)\n",
    "    emotion = response['choices'][0]['message']['content']\n",
    "    return emotion.strip()\n",
    "\n",
    "# Process dataframe in chunks\n",
    "chunk_size = 500  # Adjust based on your rate limit\n",
    "chunks = [df[i:i + chunk_size] for i in range(0, df.shape[0], chunk_size)]\n",
    "\n",
    "for i, chunk in enumerate(chunks):\n",
    "    for index, row in chunk.iterrows():\n",
    "        sentiment = get_sentiment(row['Full_Review'])\n",
    "        chunk.loc[index, 'sentiment'] = sentiment\n",
    "        time.sleep(1)\n",
    "\n",
    "    # Filter for negative reviews in the processed chunk\n",
    "    chunk_negative = chunk[chunk['sentiment'].str.contains('negative')]\n",
    "\n",
    "    # If sentiment is negative, further analyze for specific emotions\n",
    "    for index, row in chunk_negative.iterrows():\n",
    "        emotion = get_emotion(row['Full_Review'])\n",
    "        chunk_negative.loc[index, 'emotion'] = emotion\n",
    "        time.sleep(1)\n",
    "\n",
    "    # Append the processed chunk to the output file\n",
    "    if i == 0:  # For the first chunk, write the header\n",
    "        chunk_negative.to_csv('resultofnegetive78000.csv', index=False, mode='a')\n",
    "    else:  # For subsequent chunks, do not write the header\n",
    "        chunk_negative.to_csv('resultofnegetive78000.csv', index=False, mode='a', header=False)\n",
    "    \n",
    "    print(f\"Finished processing chunk {i + 1}/{len(chunks)}\")\n",
    "    time.sleep(60)  # Adjust based on your rate limit\n"
   ]
  },
  {
   "cell_type": "code",
   "execution_count": null,
   "id": "5139eaa0",
   "metadata": {},
   "outputs": [],
   "source": []
  }
 ],
 "metadata": {
  "kernelspec": {
   "display_name": "Python 3 (ipykernel)",
   "language": "python",
   "name": "python3"
  },
  "language_info": {
   "codemirror_mode": {
    "name": "ipython",
    "version": 3
   },
   "file_extension": ".py",
   "mimetype": "text/x-python",
   "name": "python",
   "nbconvert_exporter": "python",
   "pygments_lexer": "ipython3",
   "version": "3.10.12"
  }
 },
 "nbformat": 4,
 "nbformat_minor": 5
}
